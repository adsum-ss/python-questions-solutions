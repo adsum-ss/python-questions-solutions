{
 "cells": [
  {
   "cell_type": "markdown",
   "id": "ebebdbab",
   "metadata": {},
   "source": [
    "<div class=\"alert alert-block alert-danger\">\n",
    "\n",
    "Create a function that takes in two positive integers start and n and returns a list of the first n terms of the look-and-say sequence starting at the given start.\n",
    "<br>    \n",
    "Each term of the look-and-say sequence (except for the first term) is created from the previous term using the following process.\n",
    "\n",
    "Start with a term in the sequence (for example, 111312211):\n",
    "\n",
    "- 111312211\n",
    "    \n",
    "Split it into subsequences of consecutive repeating digits:\n",
    "\n",
    "- 111 3 1 22 11\n",
    "    \n",
    "Count the number of digits in each subsequence:\n",
    "\n",
    "- three 1, one 3, one 1, two 2, two 1\n",
    "    \n",
    "Turn everything into digits:\n",
    "\n",
    "- 3 1, 1 3, 1 1, 2 2, 2 1\n",
    "    \n",
    "Now combine everything into one number:\n",
    "\n",
    "- 3113112221\n",
    "    \n",
    "So 3113112221 is the next term in the sequence after 111312211."
   ]
  },
  {
   "cell_type": "markdown",
   "id": "742bbe4b",
   "metadata": {},
   "source": [
    "<div class=\"alert alert-block alert-warning\">\n",
    "\n",
    "**Examples**\n",
    "\n",
    "- look_and_say(1, 7) ➞ [1, 11, 21, 1211, 111221, 312211, 13112221]\n",
    "\n",
    "- look_and_say(123, 4) ➞ [123, 111213, 31121113, 1321123113]\n",
    "\n",
    "- look_and_say(70, 5) ➞ [70, 1710, 11171110, 31173110, 132117132110]"
   ]
  },
  {
   "cell_type": "code",
   "execution_count": 1,
   "id": "eb902de6",
   "metadata": {},
   "outputs": [
    {
     "data": {
      "text/plain": [
       "[1, 11, 21, 1211, 111221, 312211, 13112221]"
      ]
     },
     "execution_count": 1,
     "metadata": {},
     "output_type": "execute_result"
    }
   ],
   "source": [
    "def look_and_say(start, n):\n",
    "\n",
    "    new_seq, num = [start], 1\n",
    "   \n",
    "    while num < n:\n",
    "        start = str(new_seq[-1])\n",
    "        seq_list = [[start[0]]]\n",
    "        num += 1\n",
    "        for i in range(1, len(start)):\n",
    "            if start[i] == start[i-1]: seq_list[-1].append(start[i])\n",
    "            else: seq_list += [start[i]],\n",
    "\n",
    "        aa = \"\".join(map(lambda x: str(x.count(x[0])) + x[0], seq_list))\n",
    "        new_seq += [int(aa)]\n",
    "\n",
    "    return new_seq\n",
    "\n",
    "look_and_say(1, 7)"
   ]
  },
  {
   "cell_type": "code",
   "execution_count": null,
   "id": "ab656b05",
   "metadata": {},
   "outputs": [],
   "source": []
  }
 ],
 "metadata": {
  "kernelspec": {
   "display_name": "Python 3 (ipykernel)",
   "language": "python",
   "name": "python3"
  },
  "language_info": {
   "codemirror_mode": {
    "name": "ipython",
    "version": 3
   },
   "file_extension": ".py",
   "mimetype": "text/x-python",
   "name": "python",
   "nbconvert_exporter": "python",
   "pygments_lexer": "ipython3",
   "version": "3.9.6"
  }
 },
 "nbformat": 4,
 "nbformat_minor": 5
}
