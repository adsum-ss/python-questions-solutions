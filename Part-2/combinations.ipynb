{
 "cells": [
  {
   "cell_type": "markdown",
   "id": "eef131fc",
   "metadata": {},
   "source": [
    "<div class=\"alert alert-block alert-danger\">\n",
    "\n",
    "**A football manager has a squad of 20 players. How many different teams of 11 players could be selected from the squad? \n",
    "    (Hint: Assume that positions of the players are not important)**"
   ]
  },
  {
   "cell_type": "code",
   "execution_count": 3,
   "id": "88b5b77b",
   "metadata": {},
   "outputs": [],
   "source": [
    "from itertools import combinations"
   ]
  },
  {
   "cell_type": "code",
   "execution_count": 4,
   "id": "1622e0db",
   "metadata": {},
   "outputs": [
    {
     "data": {
      "text/plain": [
       "167960"
      ]
     },
     "execution_count": 4,
     "metadata": {},
     "output_type": "execute_result"
    }
   ],
   "source": [
    "squad = list(range(1,21))\n",
    "\n",
    "result = len(list(combinations(squad, 11)))\n",
    "result"
   ]
  },
  {
   "cell_type": "markdown",
   "id": "9ea64d93",
   "metadata": {},
   "source": [
    "**Second Solution** \n",
    "***"
   ]
  },
  {
   "cell_type": "code",
   "execution_count": 5,
   "id": "6a6dfd9a",
   "metadata": {},
   "outputs": [
    {
     "data": {
      "text/plain": [
       "167960.0"
      ]
     },
     "execution_count": 5,
     "metadata": {},
     "output_type": "execute_result"
    }
   ],
   "source": [
    "def fact(n):  \n",
    "    return 1 if (n==1 or n==0) else n * fact(n - 1); \n",
    "\n",
    "def comb(n,r):\n",
    "    return fact(n) / (fact(n-r) * fact(r))\n",
    "\n",
    "comb(20,11)"
   ]
  },
  {
   "cell_type": "markdown",
   "id": "1acf4103",
   "metadata": {},
   "source": [
    "***"
   ]
  },
  {
   "cell_type": "markdown",
   "id": "c37e37d5",
   "metadata": {},
   "source": [
    "<div class=\"alert alert-block alert-danger\">\n",
    "    \n",
    "<b>Question</b>     \n",
    "   - Given a list of integers S and a target number k, write a function that returns a subset of S that adds up to k. If such a subset cannot be made, then return null.\n",
    "    \n",
    "   - Integers can appear more than once in the list. You may assume all numbers in the list are positive.    \n",
    "    \n",
    "</div>"
   ]
  },
  {
   "cell_type": "markdown",
   "id": "29558772",
   "metadata": {},
   "source": [
    "<div class=\"alert alert-block alert-warning\">\n",
    "\n",
    "<b>For example,</b> given S = [12, 1, 61, 5, 9, 2] and k = 24, return [12, 9, 2,1] since it sums up to 24.\n",
    "    \n",
    "</div>"
   ]
  },
  {
   "cell_type": "code",
   "execution_count": 1,
   "id": "32be77dd",
   "metadata": {},
   "outputs": [
    {
     "data": {
      "text/plain": [
       "[[12, 1, 9, 2]]"
      ]
     },
     "execution_count": 1,
     "metadata": {},
     "output_type": "execute_result"
    }
   ],
   "source": [
    "def sub_list(num_list, k):\n",
    "\n",
    "    from itertools import combinations\n",
    "    result = []\n",
    "\n",
    "    for i in range(1, len(num_list)+1):\n",
    "        result += [list(p) for p in combinations(num_list, i) if sum(p)==k and p != []]\n",
    "        \n",
    "    if result == []: return None;\n",
    "    else: return result;\n",
    "\n",
    "sub_list([12, 1, 61, 5, 9, 2], 24)"
   ]
  }
 ],
 "metadata": {
  "kernelspec": {
   "display_name": "Python 3 (ipykernel)",
   "language": "python",
   "name": "python3"
  },
  "language_info": {
   "codemirror_mode": {
    "name": "ipython",
    "version": 3
   },
   "file_extension": ".py",
   "mimetype": "text/x-python",
   "name": "python",
   "nbconvert_exporter": "python",
   "pygments_lexer": "ipython3",
   "version": "3.9.6"
  }
 },
 "nbformat": 4,
 "nbformat_minor": 5
}
