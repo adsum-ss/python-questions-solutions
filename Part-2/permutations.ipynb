{
 "cells": [
  {
   "cell_type": "markdown",
   "id": "386b5442",
   "metadata": {},
   "source": [
    "<div class=\"alert alert-block alert-danger\">\n",
    "\n",
    "**An athlete has eight different trophies, but only has room for four trophies in a display cabinet. How many different ways is it possible to display just four trophies out of eight, assuming that the display order is important?**\n",
    "    \n",
    "</div>"
   ]
  },
  {
   "cell_type": "code",
   "execution_count": 1,
   "id": "ec4a8efe",
   "metadata": {},
   "outputs": [],
   "source": [
    "from itertools import permutations"
   ]
  },
  {
   "cell_type": "code",
   "execution_count": 2,
   "id": "1a82a949",
   "metadata": {},
   "outputs": [
    {
     "data": {
      "text/plain": [
       "1680"
      ]
     },
     "execution_count": 2,
     "metadata": {},
     "output_type": "execute_result"
    }
   ],
   "source": [
    "result = len(list(permutations([1,2,3,4,5,6,7,8], 4)))\n",
    "result"
   ]
  },
  {
   "cell_type": "markdown",
   "id": "66d49818",
   "metadata": {},
   "source": [
    "**Second Solution** \n",
    "***"
   ]
  },
  {
   "cell_type": "code",
   "execution_count": 3,
   "id": "8bf560cb",
   "metadata": {},
   "outputs": [
    {
     "data": {
      "text/plain": [
       "1680.0"
      ]
     },
     "execution_count": 3,
     "metadata": {},
     "output_type": "execute_result"
    }
   ],
   "source": [
    "def fact(n):  \n",
    "    return 1 if (n==1 or n==0) else n * fact(n - 1); \n",
    "\n",
    "def perm(n,r):\n",
    "    return fact(n) / fact(n-r)\n",
    "\n",
    "perm(8,4)"
   ]
  },
  {
   "cell_type": "code",
   "execution_count": null,
   "id": "e8fb67e2",
   "metadata": {},
   "outputs": [],
   "source": []
  }
 ],
 "metadata": {
  "kernelspec": {
   "display_name": "Python 3 (ipykernel)",
   "language": "python",
   "name": "python3"
  },
  "language_info": {
   "codemirror_mode": {
    "name": "ipython",
    "version": 3
   },
   "file_extension": ".py",
   "mimetype": "text/x-python",
   "name": "python",
   "nbconvert_exporter": "python",
   "pygments_lexer": "ipython3",
   "version": "3.9.6"
  }
 },
 "nbformat": 4,
 "nbformat_minor": 5
}
