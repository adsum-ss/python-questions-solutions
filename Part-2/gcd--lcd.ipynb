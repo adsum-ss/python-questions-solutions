{
 "cells": [
  {
   "cell_type": "markdown",
   "id": "4167b6bd",
   "metadata": {},
   "source": [
    "<div class=\"alert alert-block alert-danger\">\n",
    "    \n",
    "**Greatest Common Divisor (gcd)**\n",
    "    \n",
    "</div>"
   ]
  },
  {
   "cell_type": "code",
   "execution_count": 28,
   "id": "83e33204",
   "metadata": {},
   "outputs": [
    {
     "data": {
      "text/plain": [
       "14"
      ]
     },
     "execution_count": 28,
     "metadata": {},
     "output_type": "execute_result"
    }
   ],
   "source": [
    "def gcd(nums):\n",
    "\n",
    "    for i in reversed(range(1, min(nums)+1)):\n",
    "        if all([num % i == 0 for num in nums]):\n",
    "            return i;  break;\n",
    "\n",
    "gcd([196, 126])"
   ]
  },
  {
   "cell_type": "markdown",
   "id": "fc283ea1",
   "metadata": {},
   "source": [
    "***"
   ]
  },
  {
   "cell_type": "code",
   "execution_count": 29,
   "id": "7b720e21",
   "metadata": {},
   "outputs": [
    {
     "data": {
      "text/plain": [
       "14"
      ]
     },
     "execution_count": 29,
     "metadata": {},
     "output_type": "execute_result"
    }
   ],
   "source": [
    "def gcd(nums):\n",
    "\n",
    "    for i in reversed(range(1, min(nums)+1)):\n",
    "        if all([num % i == 0 for num in nums]):\n",
    "            return i;  break;\n",
    "\n",
    "gcd([196, 126, 252, 70])"
   ]
  },
  {
   "cell_type": "markdown",
   "id": "b83767ce",
   "metadata": {},
   "source": [
    "<div class=\"alert alert-block alert-danger\">\n",
    "    \n",
    "**Least Common Multiple (lcd)**\n",
    "    \n",
    "</div>"
   ]
  },
  {
   "cell_type": "code",
   "execution_count": 22,
   "id": "8590b46e",
   "metadata": {},
   "outputs": [
    {
     "data": {
      "text/plain": [
       "385"
      ]
     },
     "execution_count": 22,
     "metadata": {},
     "output_type": "execute_result"
    }
   ],
   "source": [
    "def lcm(nums):\n",
    "    \n",
    "    counter = 1\n",
    "    dividing = list(map(lambda x: (max(nums) * counter) % x == 0, nums))\n",
    "    \n",
    "    while False in dividing:\n",
    "    \n",
    "      counter += 1\n",
    "      dividing = list(map(lambda x: (max(nums) * counter) % x == 0, nums))\n",
    "  \n",
    "    return max(nums) * counter\n",
    "  \n",
    "lcm([5, 7, 11, 35, 55, 77])"
   ]
  },
  {
   "cell_type": "markdown",
   "id": "3ecd8af4",
   "metadata": {},
   "source": [
    "---------"
   ]
  },
  {
   "cell_type": "code",
   "execution_count": 23,
   "id": "3027b0a4",
   "metadata": {},
   "outputs": [
    {
     "name": "stdout",
     "output_type": "stream",
     "text": [
      "([5, 7, 11], 385)\n"
     ]
    }
   ],
   "source": [
    "def lcm(num_list):\n",
    "    \n",
    "    def multiplier(num):\n",
    "        if num % i == 0: return num // i\n",
    "        else: return num\n",
    "    def least_common_multiple(divisors):\n",
    "        counter = 1\n",
    "        for num in divisors: counter *= num; \n",
    "        return counter\n",
    "                        \n",
    "    divisors = []\n",
    "    for i in range(2, max(num_list)+1):\n",
    "        if max(num_list) == 1: break;\n",
    "        while any([num % i == 0 for num in num_list]):\n",
    "            num_list = list(map(multiplier, num_list))      \n",
    "            divisors.append(i)\n",
    "\n",
    "    return divisors, least_common_multiple(divisors)\n",
    "\n",
    "print(lcm([5, 7, 11, 35, 55, 77]))"
   ]
  },
  {
   "cell_type": "code",
   "execution_count": null,
   "id": "23d9ff23",
   "metadata": {},
   "outputs": [],
   "source": []
  }
 ],
 "metadata": {
  "kernelspec": {
   "display_name": "Python 3 (ipykernel)",
   "language": "python",
   "name": "python3"
  },
  "language_info": {
   "codemirror_mode": {
    "name": "ipython",
    "version": 3
   },
   "file_extension": ".py",
   "mimetype": "text/x-python",
   "name": "python",
   "nbconvert_exporter": "python",
   "pygments_lexer": "ipython3",
   "version": "3.9.6"
  }
 },
 "nbformat": 4,
 "nbformat_minor": 5
}
