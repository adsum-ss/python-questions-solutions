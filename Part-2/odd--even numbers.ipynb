{
 "cells": [
  {
   "cell_type": "markdown",
   "id": "1d9e6234",
   "metadata": {},
   "source": [
    "<div class=\"alert alert-block alert-danger\">\n",
    "\n",
    "<b>Create a list of strings based on a list of numbers</b>\n",
    "\n",
    "<b>The rules:</b>\n",
    "<li>If the number is a multiple of five and odd, the string should be <b>'five odd'</b></li>    \n",
    "<li>If the number is a multiple of five and even, the string should be <b>'five even'</b></li>   \n",
    "<li>If the number is odd, the string is <b>'odd'</b></li>    \n",
    "<li>If the number is even, the string is <b>'even'</b></li>\n",
    "    \n",
    "<b>NOTE =</b> use list compherension\n",
    "    \n",
    "</div>"
   ]
  },
  {
   "cell_type": "markdown",
   "id": "f0d540f6",
   "metadata": {},
   "source": [
    "<div class=\"alert alert-block alert-warning\">\n",
    "\n",
    "given list = numbers = [1, 3, 4, 6, 81, 80, 100, 95]<br>   \n",
    "expected output = ['odd', 'odd', 'even', 'even', 'odd', 'five even', 'five even', 'five odd']\n",
    "    \n",
    "</div>"
   ]
  },
  {
   "cell_type": "code",
   "execution_count": 3,
   "id": "91f4e55b",
   "metadata": {},
   "outputs": [
    {
     "name": "stdout",
     "output_type": "stream",
     "text": [
      "['odd', 'odd', 'even', 'even', 'odd', 'five_even', 'five_even', 'five_odd']\n"
     ]
    }
   ],
   "source": [
    "numbers = [1, 3, 4, 6, 81, 80, 100, 95]\n",
    "\n",
    "new_list = [\"five_even\" if n%5==0 and n%2==0 else \"five_odd\" if n%5==0 \n",
    "            else \"even\" if n%2==0 else \"odd\" for n in numbers]\n",
    "\n",
    "print(new_list)"
   ]
  },
  {
   "cell_type": "markdown",
   "id": "35c0d644",
   "metadata": {},
   "source": [
    "**Second Solution (without if-else statement)**\n",
    "***"
   ]
  },
  {
   "cell_type": "code",
   "execution_count": 2,
   "id": "efb423f8",
   "metadata": {},
   "outputs": [
    {
     "name": "stdout",
     "output_type": "stream",
     "text": [
      "['odd', 'odd', 'even', 'even', 'odd', 'five_even', 'five_even', 'five_odd']\n"
     ]
    }
   ],
   "source": [
    "numbers = [1, 3, 4, 6, 81, 80, 100, 95]\n",
    "\n",
    "new_list = [['odd', 'even', 'five_odd', 'five_even'][2*(n%5==0)+(n%2==0)] for n in numbers]\n",
    "\n",
    "print(new_list)"
   ]
  },
  {
   "cell_type": "code",
   "execution_count": null,
   "id": "d2b65325",
   "metadata": {},
   "outputs": [],
   "source": []
  }
 ],
 "metadata": {
  "kernelspec": {
   "display_name": "Python 3 (ipykernel)",
   "language": "python",
   "name": "python3"
  },
  "language_info": {
   "codemirror_mode": {
    "name": "ipython",
    "version": 3
   },
   "file_extension": ".py",
   "mimetype": "text/x-python",
   "name": "python",
   "nbconvert_exporter": "python",
   "pygments_lexer": "ipython3",
   "version": "3.9.6"
  }
 },
 "nbformat": 4,
 "nbformat_minor": 5
}
