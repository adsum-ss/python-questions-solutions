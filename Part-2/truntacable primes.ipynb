{
 "cells": [
  {
   "cell_type": "markdown",
   "id": "08de836e",
   "metadata": {},
   "source": [
    "<div class=\"alert alert-block alert-danger\">\n",
    "\n",
    "<b>A left-truncatable prime is a prime number that contains no 0 digits and, when the first digit is successively removed, the result is always prime.</b>\n",
    "\n",
    "<br><b>A right-truncatable prime is a prime number that contains no 0 digits and, when the last digit is successively removed, the result is always prime.</b>\n",
    "\n",
    "<br><b>Create a function that takes an integer as an argument and:</b><br>\n",
    "<br>\n",
    "<li>If the integer is only a left-truncatable prime, return <b>\"left\"</b>.</li>\n",
    "<li>If the integer is only a right-truncatable prime, return <b>\"right\"</b>.</li>\n",
    "<li>If the integer is both, return <b>\"both\"</b>.</li>\n",
    "<li>Otherwise, return <b>False</b>.</li>\n",
    "    \n",
    "</div>"
   ]
  },
  {
   "cell_type": "markdown",
   "id": "9c836f02",
   "metadata": {},
   "source": [
    "<div class=\"alert alert-block alert-warning\">\n",
    "\n",
    "<li>truncatable(9137) ➞ \"left\"</li>\n",
    "Because 9137, 137, 37 and 7 are all prime.<br>\n",
    "<br><li>truncatable(5939) ➞ \"right\"</li>\n",
    "Because 5939, 593, 59 and 5 are all prime.<br>\n",
    "<br><li>truncatable(317) ➞ \"both\"</li>\n",
    "Because 317, 17 and 7 are all prime and 317, 31 and 3 are all prime.<br>\n",
    "<br><li>truncatable(5) ➞ \"both\"</li>\n",
    "The trivial case of single-digit primes is treated as truncatable from both directions.<br>\n",
    "<br><li>truncatable(139) ➞ False</li>\n",
    "1 and 9 are non-prime, so 139 cannot be truncatable from either direction.<br>\n",
    "<br><li>truncatable(103) ➞ False</li>\n",
    "Because it contains a 0 digit (even though 103 and 3 are primes).\n",
    "    \n",
    "</div>"
   ]
  },
  {
   "cell_type": "code",
   "execution_count": 1,
   "id": "6de4bae6",
   "metadata": {},
   "outputs": [
    {
     "data": {
      "text/plain": [
       "'both'"
      ]
     },
     "execution_count": 1,
     "metadata": {},
     "output_type": "execute_result"
    }
   ],
   "source": [
    "def truncatable(num):\n",
    "    \n",
    "    num = str(num)\n",
    "    left, right = [], []\n",
    "\n",
    "    for i in range(len(num)):\n",
    "        if num[i] == \"0\":\n",
    "            return False\n",
    "        left += int(num[i:]),\n",
    "        right += int(num[:len(num)-i]),\n",
    "\n",
    "    def is_prime(x):\n",
    "        if x > 1:\n",
    "            for i in range(2,x):\n",
    "                 if (x % i) == 0:\n",
    "                    return False\n",
    "            else:\n",
    "                return True\n",
    "        else:\n",
    "            return False\n",
    "   \n",
    "    left1 = list(map(is_prime, left))\n",
    "    right1 = list(map(is_prime, right))\n",
    "\n",
    "    if all(left1) and all(right1): return \"both\"\n",
    "    elif all(left1): return \"left\"\n",
    "    elif all(right1): return \"right\"\n",
    "    else: return False\n",
    "\n",
    "truncatable(317)"
   ]
  },
  {
   "cell_type": "code",
   "execution_count": 2,
   "id": "997478e6",
   "metadata": {},
   "outputs": [
    {
     "data": {
      "text/plain": [
       "False"
      ]
     },
     "execution_count": 2,
     "metadata": {},
     "output_type": "execute_result"
    }
   ],
   "source": [
    "def truncatable(num):\n",
    "    \n",
    "    num = str(num)\n",
    "    left, right = [], []\n",
    "\n",
    "    for i in range(len(num)):\n",
    "        if num[i] == \"0\":\n",
    "            return False\n",
    "        left += int(num[i:]),\n",
    "        right += int(num[:len(num)-i]),\n",
    "\n",
    "    def is_prime(x):\n",
    "        if x > 1:\n",
    "            for i in range(2,x):\n",
    "                 if (x % i) == 0:\n",
    "                    return False\n",
    "            else:\n",
    "                return True\n",
    "        else:\n",
    "            return False\n",
    "   \n",
    "    left1 = list(map(is_prime, left))\n",
    "    right1 = list(map(is_prime, right))\n",
    "\n",
    "    if all(left1) and all(right1): return \"both\"\n",
    "    elif all(left1): return \"left\"\n",
    "    elif all(right1): return \"right\"\n",
    "    else: return False\n",
    "\n",
    "truncatable(103)"
   ]
  },
  {
   "cell_type": "code",
   "execution_count": null,
   "id": "25998534",
   "metadata": {},
   "outputs": [],
   "source": []
  }
 ],
 "metadata": {
  "kernelspec": {
   "display_name": "Python 3 (ipykernel)",
   "language": "python",
   "name": "python3"
  },
  "language_info": {
   "codemirror_mode": {
    "name": "ipython",
    "version": 3
   },
   "file_extension": ".py",
   "mimetype": "text/x-python",
   "name": "python",
   "nbconvert_exporter": "python",
   "pygments_lexer": "ipython3",
   "version": "3.9.6"
  }
 },
 "nbformat": 4,
 "nbformat_minor": 5
}
