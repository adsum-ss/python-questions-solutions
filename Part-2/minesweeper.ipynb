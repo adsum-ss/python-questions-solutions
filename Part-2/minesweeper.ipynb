{
 "cells": [
  {
   "cell_type": "code",
   "execution_count": 1,
   "id": "bb0280b6",
   "metadata": {},
   "outputs": [
    {
     "data": {
      "text/plain": [
       "[['1', '1', '2', '#', '#'],\n",
       " ['1', '#', '3', '3', '2'],\n",
       " ['2', '4', '#', '2', '0'],\n",
       " ['1', '#', '#', '2', '0'],\n",
       " ['1', '2', '2', '1', '0']]"
      ]
     },
     "execution_count": 1,
     "metadata": {},
     "output_type": "execute_result"
    }
   ],
   "source": [
    "def num_grid(grid):\n",
    "\n",
    "    liste = [[] for i in range(len(grid))]\n",
    "\n",
    "    for i in range(len(grid)):\n",
    "        for x in range(0, len(grid[i])):\n",
    "            if i == 0:\n",
    "                if grid[i][x] == \"#\":\n",
    "                    liste[i] += \"#\"\n",
    "                else:\n",
    "                    num = (grid[i][x-1:x] + grid[i][x:x+1] + grid[i][x+1:x+2] + \n",
    "                           grid[i+1][x-1:x] + grid[i+1][x:x+1] + grid[i+1][x+1:x+2]).count(\"#\")\n",
    "                    liste[i] += str(num)\n",
    "          \n",
    "            elif grid[i] == grid[-1]:\n",
    "                if grid[i][x] == \"#\":\n",
    "                    liste[i] += \"#\"\n",
    "                else:\n",
    "                    num = (grid[i][x-1:x] + grid[i][x:x+1] + grid[i][x+1:x+2] +\n",
    "                           grid[i-1][x-1:x] + grid[i-1][x:x+1] + grid[i-1][x+1:x+2]).count(\"#\")\n",
    "                    liste[i] += str(num)\n",
    "      \n",
    "            else:\n",
    "                if grid[i][x] == \"#\":\n",
    "                    liste[i] += \"#\"\n",
    "                else:\n",
    "                    num = (grid[i][x-1:x] + grid[i][x:x+1] + grid[i][x+1:x+2] +\n",
    "                           grid[i-1][x-1:x] + grid[i-1][x:x+1] + grid[i-1][x+1:x+2] +\n",
    "                           grid[i+1][x-1:x] + grid[i+1][x:x+1] + grid[i+1][x+1:x+2]).count(\"#\")\n",
    "                    liste[i] += str(num)\n",
    "\n",
    "    return liste\n",
    "\n",
    "num_grid([\n",
    "  [\"-\", \"-\", \"-\", \"#\", \"#\"],\n",
    "  [\"-\", \"#\", \"-\", \"-\", \"-\"],\n",
    "  [\"-\", \"-\", \"#\", \"-\", \"-\"],\n",
    "  [\"-\", \"#\", \"#\", \"-\", \"-\"],\n",
    "  [\"-\", \"-\", \"-\", \"-\", \"-\"]\n",
    "])"
   ]
  },
  {
   "cell_type": "code",
   "execution_count": null,
   "id": "86025b1c",
   "metadata": {},
   "outputs": [],
   "source": []
  }
 ],
 "metadata": {
  "kernelspec": {
   "display_name": "Python 3 (ipykernel)",
   "language": "python",
   "name": "python3"
  },
  "language_info": {
   "codemirror_mode": {
    "name": "ipython",
    "version": 3
   },
   "file_extension": ".py",
   "mimetype": "text/x-python",
   "name": "python",
   "nbconvert_exporter": "python",
   "pygments_lexer": "ipython3",
   "version": "3.9.6"
  }
 },
 "nbformat": 4,
 "nbformat_minor": 5
}
