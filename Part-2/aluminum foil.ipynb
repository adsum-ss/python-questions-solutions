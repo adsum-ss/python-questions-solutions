{
 "cells": [
  {
   "cell_type": "markdown",
   "id": "09b216e9",
   "metadata": {},
   "source": [
    "<div class=\"alert alert-block alert-danger\">\n",
    "    \n",
    "<strong>Aluminum foil has a thickness of 0.025mm. A roll is formed by tightly winding it around a tube with an outside diameter of 4cm. Given the length of the foil in cm, write a function that returns the diameter of the roll in cm measured at its thickest point. Round the result to four places.<strong>\n",
    "    \n",
    "</div>"
   ]
  },
  {
   "cell_type": "code",
   "execution_count": 1,
   "id": "14e8317c",
   "metadata": {},
   "outputs": [
    {
     "data": {
      "text/plain": [
       "6.9175"
      ]
     },
     "execution_count": 1,
     "metadata": {},
     "output_type": "execute_result"
    }
   ],
   "source": [
    "def foil(length):\n",
    "    from math import pi\n",
    "    diameter, perimeter = 4, 4*pi\n",
    "    while (length >= perimeter) :\n",
    "        length -= perimeter\n",
    "        diameter += 0.0025 * 2\n",
    "        perimeter = diameter * pi\n",
    "    if 0 < length < perimeter/2 : diameter += 0.0025\n",
    "    elif perimeter/2 <= length < perimeter : diameter += 0.0025 * 2\n",
    "    return round(diameter,4)\n",
    "\n",
    "foil(10000)"
   ]
  },
  {
   "cell_type": "markdown",
   "id": "e0b7e872",
   "metadata": {},
   "source": [
    "**Second Solution**\n",
    "***"
   ]
  },
  {
   "cell_type": "code",
   "execution_count": 2,
   "id": "3d47e123",
   "metadata": {},
   "outputs": [
    {
     "data": {
      "text/plain": [
       "4.0198"
      ]
     },
     "execution_count": 2,
     "metadata": {},
     "output_type": "execute_result"
    }
   ],
   "source": [
    "def foil(length):\n",
    "\n",
    "    import math\n",
    "\n",
    "    diameter = (((length * 0.0025 / math.pi) + 2**2) ** 0.5) * 2\n",
    "\n",
    "    return round(diameter, 4)\n",
    "\n",
    "foil(50)"
   ]
  },
  {
   "cell_type": "code",
   "execution_count": null,
   "id": "538c8527",
   "metadata": {},
   "outputs": [],
   "source": []
  }
 ],
 "metadata": {
  "kernelspec": {
   "display_name": "Python 3 (ipykernel)",
   "language": "python",
   "name": "python3"
  },
  "language_info": {
   "codemirror_mode": {
    "name": "ipython",
    "version": 3
   },
   "file_extension": ".py",
   "mimetype": "text/x-python",
   "name": "python",
   "nbconvert_exporter": "python",
   "pygments_lexer": "ipython3",
   "version": "3.9.6"
  }
 },
 "nbformat": 4,
 "nbformat_minor": 5
}
