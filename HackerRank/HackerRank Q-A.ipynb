{
 "cells": [
  {
   "cell_type": "markdown",
   "id": "3353077b",
   "metadata": {},
   "source": [
    "### Alphabet Rangoli"
   ]
  },
  {
   "cell_type": "markdown",
   "id": "f8c26e63",
   "metadata": {},
   "source": [
    "You are given an integer, *N*. Your task is to print an alphabet rangoli of size *N*. (Rangoli is a form of Indian folk art based on creation of patterns.)\n",
    "\n",
    "Sample:\n",
    "\n",
    "* size 5\n",
    "\n",
    "--------e--------\n",
    "\n",
    "------e-d-e------\n",
    "\n",
    "----e-d-c-d-e----\n",
    "\n",
    "--e-d-c-b-c-d-e--\n",
    "\n",
    "e-d-c-b-a-b-c-d-e\n",
    "\n",
    "--e-d-c-b-c-d-e--\n",
    "\n",
    "----e-d-c-d-e----\n",
    "\n",
    "------e-d-e------\n",
    "\n",
    "--------e--------\n",
    "\n",
    "\n",
    "The center of the rangoli has the first alphabet letter a, and the boundary has the ***Nth*** alphabet letter (in alphabetical order)."
   ]
  },
  {
   "cell_type": "code",
   "execution_count": 1,
   "id": "77933c89",
   "metadata": {},
   "outputs": [
    {
     "data": {
      "text/plain": [
       "'abcdefghijklmnopqrstuvwxyz'"
      ]
     },
     "execution_count": 1,
     "metadata": {},
     "output_type": "execute_result"
    }
   ],
   "source": [
    "import string\n",
    "alphabet = string.ascii_lowercase\n",
    "alphabet"
   ]
  },
  {
   "cell_type": "code",
   "execution_count": 2,
   "id": "08a0214f",
   "metadata": {},
   "outputs": [
    {
     "name": "stdout",
     "output_type": "stream",
     "text": [
      "7\n",
      "------------g------------\n",
      "----------g-f-g----------\n",
      "--------g-f-e-f-g--------\n",
      "------g-f-e-d-e-f-g------\n",
      "----g-f-e-d-c-d-e-f-g----\n",
      "--g-f-e-d-c-b-c-d-e-f-g--\n",
      "g-f-e-d-c-b-a-b-c-d-e-f-g\n",
      "--g-f-e-d-c-b-c-d-e-f-g--\n",
      "----g-f-e-d-c-d-e-f-g----\n",
      "------g-f-e-d-e-f-g------\n",
      "--------g-f-e-f-g--------\n",
      "----------g-f-g----------\n",
      "------------g------------\n"
     ]
    }
   ],
   "source": [
    "# size 7\n",
    "size = int(input())\n",
    "output_list = []\n",
    "\n",
    "for i in range(size):\n",
    "    pattern = \"-\".join(alphabet[i:size])\n",
    "    output_list.append((pattern[::-1]+pattern[1:]).center(4*size-3, \"-\"))\n",
    "    \n",
    "print('\\n'.join(output_list[:0:-1]+output_list))"
   ]
  },
  {
   "cell_type": "markdown",
   "id": "812b7fe2",
   "metadata": {},
   "source": [
    "***"
   ]
  },
  {
   "cell_type": "markdown",
   "id": "74c2b006",
   "metadata": {},
   "source": [
    "### The Captain's Room (Python Sets)"
   ]
  },
  {
   "cell_type": "markdown",
   "id": "5ce5eca5",
   "metadata": {},
   "source": [
    "Mr. Anant Asankhya is the manager at the INFINITE hotel. The hotel has an infinite amount of rooms.\n",
    "\n",
    "One fine day, a finite number of tourists come to stay at the hotel. The tourists consist of:\n",
    "\n",
    "→ A Captain.\n",
    "\n",
    "→ An unknown group of families consisting of ***K*** members per group where ***K ≠ 1***.\n",
    "\n",
    "The Captain was given a separate room, and the rest were given one room per group.\n",
    "\n",
    "Mr. Anant has an unordered list of randomly arranged room entries. The list consists of the room numbers for all of the tourists. The room numbers will appear ***K*** times per group except for the Captain's room.\n",
    "\n",
    "Mr. Anant needs you to help him find the Captain's room number. The total number of tourists or the total number of groups of families is not known to you. You only know the value of ***K*** and the room number list.\n",
    "\n",
    "***Input Format***\n",
    "\n",
    "The first line consists of an integer, ***K***, the size of each group.\n",
    "The second line contains the unordered elements of the room number list.\n",
    "\n",
    "***Constraints ===>*** 1 < K < 1000\n",
    "\n",
    "***Output Format ===>*** Output the Captain's room number."
   ]
  },
  {
   "cell_type": "code",
   "execution_count": 1,
   "id": "339cde76",
   "metadata": {},
   "outputs": [
    {
     "name": "stdout",
     "output_type": "stream",
     "text": [
      "5\n",
      "1 2 3 6 5 4 4 2 5 3 6 1 6 5 3 2 4 1 2 5 1 4 3 6 8 4 3 1 5 6 2\n",
      "8\n"
     ]
    }
   ],
   "source": [
    "k, room_list = int(input()), list(map(int, input().split()))\n",
    "print(int((sum(k*list(set(room_list)))-sum(room_list))/(k-1)))"
   ]
  },
  {
   "cell_type": "code",
   "execution_count": null,
   "id": "5b574410",
   "metadata": {},
   "outputs": [],
   "source": []
  }
 ],
 "metadata": {
  "kernelspec": {
   "display_name": "Python 3 (ipykernel)",
   "language": "python",
   "name": "python3"
  },
  "language_info": {
   "codemirror_mode": {
    "name": "ipython",
    "version": 3
   },
   "file_extension": ".py",
   "mimetype": "text/x-python",
   "name": "python",
   "nbconvert_exporter": "python",
   "pygments_lexer": "ipython3",
   "version": "3.9.6"
  }
 },
 "nbformat": 4,
 "nbformat_minor": 5
}
