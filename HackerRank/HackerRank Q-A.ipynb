{
 "cells": [
  {
   "cell_type": "markdown",
   "id": "3353077b",
   "metadata": {},
   "source": [
    "### Alphabet Rangoli"
   ]
  },
  {
   "cell_type": "markdown",
   "id": "f8c26e63",
   "metadata": {},
   "source": [
    "You are given an integer, *N*. Your task is to print an alphabet rangoli of size *N*. (Rangoli is a form of Indian folk art based on creation of patterns.)\n",
    "\n",
    "Sample:\n",
    "\n",
    "* size 5\n",
    "\n",
    "--------e--------\n",
    "\n",
    "------e-d-e------\n",
    "\n",
    "----e-d-c-d-e----\n",
    "\n",
    "--e-d-c-b-c-d-e--\n",
    "\n",
    "e-d-c-b-a-b-c-d-e\n",
    "\n",
    "--e-d-c-b-c-d-e--\n",
    "\n",
    "----e-d-c-d-e----\n",
    "\n",
    "------e-d-e------\n",
    "\n",
    "--------e--------\n",
    "\n",
    "\n",
    "The center of the rangoli has the first alphabet letter a, and the boundary has the ***Nth*** alphabet letter (in alphabetical order)."
   ]
  },
  {
   "cell_type": "code",
   "execution_count": 1,
   "id": "77933c89",
   "metadata": {},
   "outputs": [
    {
     "data": {
      "text/plain": [
       "'abcdefghijklmnopqrstuvwxyz'"
      ]
     },
     "execution_count": 1,
     "metadata": {},
     "output_type": "execute_result"
    }
   ],
   "source": [
    "import string\n",
    "alphabet = string.ascii_lowercase\n",
    "alphabet"
   ]
  },
  {
   "cell_type": "code",
   "execution_count": 2,
   "id": "08a0214f",
   "metadata": {},
   "outputs": [
    {
     "name": "stdout",
     "output_type": "stream",
     "text": [
      "7\n",
      "------------g------------\n",
      "----------g-f-g----------\n",
      "--------g-f-e-f-g--------\n",
      "------g-f-e-d-e-f-g------\n",
      "----g-f-e-d-c-d-e-f-g----\n",
      "--g-f-e-d-c-b-c-d-e-f-g--\n",
      "g-f-e-d-c-b-a-b-c-d-e-f-g\n",
      "--g-f-e-d-c-b-c-d-e-f-g--\n",
      "----g-f-e-d-c-d-e-f-g----\n",
      "------g-f-e-d-e-f-g------\n",
      "--------g-f-e-f-g--------\n",
      "----------g-f-g----------\n",
      "------------g------------\n"
     ]
    }
   ],
   "source": [
    "# size 7\n",
    "size = int(input())\n",
    "output_list = []\n",
    "\n",
    "for i in range(size):\n",
    "    pattern = \"-\".join(alphabet[i:size])\n",
    "    output_list.append((pattern[::-1]+pattern[1:]).center(4*size-3, \"-\"))\n",
    "    \n",
    "print('\\n'.join(output_list[:0:-1]+output_list))"
   ]
  },
  {
   "cell_type": "code",
   "execution_count": null,
   "id": "badbf7a8",
   "metadata": {},
   "outputs": [],
   "source": []
  }
 ],
 "metadata": {
  "kernelspec": {
   "display_name": "Python 3 (ipykernel)",
   "language": "python",
   "name": "python3"
  },
  "language_info": {
   "codemirror_mode": {
    "name": "ipython",
    "version": 3
   },
   "file_extension": ".py",
   "mimetype": "text/x-python",
   "name": "python",
   "nbconvert_exporter": "python",
   "pygments_lexer": "ipython3",
   "version": "3.9.6"
  }
 },
 "nbformat": 4,
 "nbformat_minor": 5
}
