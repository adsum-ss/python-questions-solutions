{
 "cells": [
  {
   "cell_type": "markdown",
   "id": "98de52b9",
   "metadata": {},
   "source": [
    "<div class=\"alert alert-block alert-danger\">\n",
    "\n",
    "<strong><br>Write a function that will convert a string into title case, given an optional list of exceptions (minor words).</strong>    \n",
    "<strong><br>The list of minor words will be given as a string with each word separated by a space.</strong>    \n",
    "<strong><br>Your function should ignore the case of the minor words string -- it should behave in the same way even if the case of the minor word string is changed.</strong>\n",
    "    \n",
    "</div>"
   ]
  },
  {
   "cell_type": "code",
   "execution_count": 1,
   "id": "b825ed8e",
   "metadata": {},
   "outputs": [
    {
     "data": {
      "text/plain": [
       "'The Wind in the Willows'"
      ]
     },
     "execution_count": 1,
     "metadata": {},
     "output_type": "execute_result"
    }
   ],
   "source": [
    "def title_case(string, exceptions=\"\"):\n",
    "    \n",
    "    string = list(string.lower().split())\n",
    "    exceptions = list(exceptions.lower().split())\n",
    "  \n",
    "    string = [string[i].capitalize() if string[i] not in exceptions or i == 0 else string[i] for i in range(len(string))]\n",
    "    string = \" \".join(string)\n",
    "    \n",
    "    return string\n",
    "\n",
    "title_case('THE WIND IN THE WILLOWS', 'The In')"
   ]
  },
  {
   "cell_type": "code",
   "execution_count": null,
   "id": "0a6d336a",
   "metadata": {},
   "outputs": [],
   "source": []
  }
 ],
 "metadata": {
  "kernelspec": {
   "display_name": "Python 3 (ipykernel)",
   "language": "python",
   "name": "python3"
  },
  "language_info": {
   "codemirror_mode": {
    "name": "ipython",
    "version": 3
   },
   "file_extension": ".py",
   "mimetype": "text/x-python",
   "name": "python",
   "nbconvert_exporter": "python",
   "pygments_lexer": "ipython3",
   "version": "3.9.6"
  }
 },
 "nbformat": 4,
 "nbformat_minor": 5
}
