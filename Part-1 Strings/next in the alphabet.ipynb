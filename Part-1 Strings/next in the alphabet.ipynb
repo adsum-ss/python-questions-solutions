{
 "cells": [
  {
   "cell_type": "markdown",
   "id": "2af7eb23",
   "metadata": {},
   "source": [
    "<div class=\"alert alert-block alert-danger\">\n",
    "\n",
    "<strong>Create a function which returns the next letters alphabetically in a given string. If the last letter is a \"Z\", change the rest of the letters accordingly.</strong>\n",
    "    \n",
    "</div>"
   ]
  },
  {
   "cell_type": "markdown",
   "id": "ae6268b6",
   "metadata": {},
   "source": [
    "<div class=\"alert alert-block alert-warning\">\n",
    "\n",
    "<strong>Examples</strong>\n",
    "\n",
    "- next_letters(\"A\") ➞ \"B\"\n",
    "\n",
    "- next_letters(\"ABC\") ➞ \"ABD\"\n",
    "\n",
    "- next_letters(\"Z\") ➞ \"AA\"\n",
    "\n",
    "- next_letters(\"CAZ\") ➞ \"CBA\"\n",
    "\n",
    "- next_letters(\"\") ➞ \"A\"\n",
    "    \n",
    "</div>"
   ]
  },
  {
   "cell_type": "markdown",
   "id": "255f24b2",
   "metadata": {},
   "source": [
    "<div class=\"alert alert-block alert-warning\">\n",
    "\n",
    "<strong>Notes</strong>\n",
    "\n",
    "- Tests will all be in CAPITALS.\n",
    "- Empty inputs should return a capital \"A\" (as if it were in letter position 0!).\n",
    "- Think about the letter \"Z\" like the number 9 and how it carries over to increment the next letter/digit over.\n",
    "    \n",
    "</div>"
   ]
  },
  {
   "cell_type": "code",
   "execution_count": 2,
   "id": "d8a2ae91",
   "metadata": {},
   "outputs": [
    {
     "data": {
      "text/plain": [
       "'CZAEAA'"
      ]
     },
     "execution_count": 2,
     "metadata": {},
     "output_type": "execute_result"
    }
   ],
   "source": [
    "def next_letter(text):\n",
    "\n",
    "    letter_list = list(text)\n",
    "    new_text = \"\"\n",
    "\n",
    "    while letter_list[-1:] == [\"Z\"]:\n",
    "        new_text += \"A\"\n",
    "        del letter_list[-1]\n",
    "\n",
    "    if letter_list[-1:] == []:\n",
    "        new_text += \"A\"\n",
    "    else:\n",
    "        new_text += chr(ord(letter_list[-1]) + 1)\n",
    "        del letter_list[-1]\n",
    "        for i in reversed(letter_list):\n",
    "            new_text += i\n",
    "\n",
    "    return \"\".join(reversed(new_text))\n",
    "\n",
    "next_letter(\"CZADZZ\")"
   ]
  },
  {
   "cell_type": "code",
   "execution_count": 3,
   "id": "85ea9fc5",
   "metadata": {},
   "outputs": [
    {
     "data": {
      "text/plain": [
       "'A'"
      ]
     },
     "execution_count": 3,
     "metadata": {},
     "output_type": "execute_result"
    }
   ],
   "source": [
    "def next_letter(text):\n",
    "\n",
    "    letter_list = list(text)\n",
    "    new_text = \"\"\n",
    "\n",
    "    while letter_list[-1:] == [\"Z\"]:\n",
    "        new_text += \"A\"\n",
    "        del letter_list[-1]\n",
    "\n",
    "    if letter_list[-1:] == []:\n",
    "        new_text += \"A\"\n",
    "    else:\n",
    "        new_text += chr(ord(letter_list[-1]) + 1)\n",
    "        del letter_list[-1]\n",
    "        for i in reversed(letter_list):\n",
    "            new_text += i\n",
    "\n",
    "    return \"\".join(reversed(new_text))\n",
    "\n",
    "next_letter(\"\")"
   ]
  },
  {
   "cell_type": "code",
   "execution_count": null,
   "id": "b9576832",
   "metadata": {},
   "outputs": [],
   "source": []
  }
 ],
 "metadata": {
  "kernelspec": {
   "display_name": "Python 3 (ipykernel)",
   "language": "python",
   "name": "python3"
  },
  "language_info": {
   "codemirror_mode": {
    "name": "ipython",
    "version": 3
   },
   "file_extension": ".py",
   "mimetype": "text/x-python",
   "name": "python",
   "nbconvert_exporter": "python",
   "pygments_lexer": "ipython3",
   "version": "3.9.6"
  }
 },
 "nbformat": 4,
 "nbformat_minor": 5
}
