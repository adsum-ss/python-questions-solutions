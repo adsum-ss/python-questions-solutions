{
 "cells": [
  {
   "cell_type": "markdown",
   "id": "da934600",
   "metadata": {},
   "source": [
    "<div class=\"alert alert-block alert-danger\">\n",
    "    \n",
    "**Finding anagrams from a given list and grouping them in another list**"
   ]
  },
  {
   "cell_type": "code",
   "execution_count": 11,
   "id": "2143b4a3",
   "metadata": {},
   "outputs": [],
   "source": [
    "str_list = [\"eat\", \"tea\", \"tan\", \"ate\", \"nat\", \"bat\", \"cat\", \"act\"]"
   ]
  },
  {
   "cell_type": "code",
   "execution_count": 16,
   "id": "26e7b1fc",
   "metadata": {},
   "outputs": [
    {
     "name": "stdout",
     "output_type": "stream",
     "text": [
      "[['eat', 'tea', 'ate'], ['tan', 'nat'], ['bat'], ['cat', 'act']]\n"
     ]
    }
   ],
   "source": [
    "str_list = [\"eat\", \"tea\", \"tan\", \"ate\", \"nat\", \"bat\", \"cat\", \"act\"]\n",
    "new_list = []\n",
    "\n",
    "for i in str_list:\n",
    "    if i not in sum(new_list, []):\n",
    "        new_list.append([])\n",
    "        for j in str_list:         \n",
    "            if sorted(i) == sorted(j):\n",
    "                new_list[-1].append(j)\n",
    "            \n",
    "print(new_list)"
   ]
  },
  {
   "cell_type": "code",
   "execution_count": null,
   "id": "affafaaa",
   "metadata": {},
   "outputs": [],
   "source": []
  }
 ],
 "metadata": {
  "kernelspec": {
   "display_name": "Python 3 (ipykernel)",
   "language": "python",
   "name": "python3"
  },
  "language_info": {
   "codemirror_mode": {
    "name": "ipython",
    "version": 3
   },
   "file_extension": ".py",
   "mimetype": "text/x-python",
   "name": "python",
   "nbconvert_exporter": "python",
   "pygments_lexer": "ipython3",
   "version": "3.9.6"
  }
 },
 "nbformat": 4,
 "nbformat_minor": 5
}
