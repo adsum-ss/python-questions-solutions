{
 "cells": [
  {
   "cell_type": "markdown",
   "id": "c14bcee9",
   "metadata": {},
   "source": [
    "<div class=\"alert alert-block alert-danger\">\n",
    "\n",
    "Given two strings **s** and **t**, create a function to determine if they are isomorphic. Two strings are isomorphic if the characters in **s** can be replaced to get **t**. All occurrences of a character must be replaced with another character while preserving the order of characters. No two characters may map to the same character but a character may map to itself."
   ]
  },
  {
   "cell_type": "markdown",
   "id": "5cfdbefb",
   "metadata": {},
   "source": [
    "<div class=\"alert alert-block alert-warning\">\n",
    "\n",
    "**Examples**\n",
    "\n",
    "- is_isomorphic(\"egg\", \"add\") ➞ True\n",
    "\n",
    "- is_isomorphic(\"aba\", \"baa\") ➞ False\n",
    "\n",
    "- is_isomorphic(\"paper\", \"title\") ➞ True"
   ]
  },
  {
   "cell_type": "code",
   "execution_count": 2,
   "id": "334e85de",
   "metadata": {},
   "outputs": [
    {
     "data": {
      "text/plain": [
       "True"
      ]
     },
     "execution_count": 2,
     "metadata": {},
     "output_type": "execute_result"
    }
   ],
   "source": [
    "def is_isomorphic(string1, string2):\n",
    "    \n",
    "    str1 = {i: [] for i in string1}\n",
    "    str2 = {i: [] for i in string2}\n",
    "\n",
    "    for i in range(len(string1)):\n",
    "        str1[string1[i]].append(i)\n",
    "\n",
    "    for i in range(len(string2)):\n",
    "        str2[string2[i]].append(i)\n",
    "\n",
    "    return sorted(str1.values()) == sorted(str2.values())\n",
    "\n",
    "is_isomorphic(\"paper\", \"title\")"
   ]
  },
  {
   "cell_type": "code",
   "execution_count": null,
   "id": "c548b1af",
   "metadata": {},
   "outputs": [],
   "source": []
  }
 ],
 "metadata": {
  "kernelspec": {
   "display_name": "Python 3 (ipykernel)",
   "language": "python",
   "name": "python3"
  },
  "language_info": {
   "codemirror_mode": {
    "name": "ipython",
    "version": 3
   },
   "file_extension": ".py",
   "mimetype": "text/x-python",
   "name": "python",
   "nbconvert_exporter": "python",
   "pygments_lexer": "ipython3",
   "version": "3.9.6"
  }
 },
 "nbformat": 4,
 "nbformat_minor": 5
}
